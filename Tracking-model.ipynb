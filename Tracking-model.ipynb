{
 "cells": [
  {
   "cell_type": "markdown",
   "id": "e74dd29e",
   "metadata": {},
   "source": [
    "## Using SVM"
   ]
  },
  {
   "cell_type": "code",
   "execution_count": 61,
   "id": "2729be0b",
   "metadata": {},
   "outputs": [],
   "source": [
    "import pandas as pd\n",
    "from sklearn.model_selection import train_test_split\n",
    "from sklearn.svm import SVC"
   ]
  },
  {
   "cell_type": "code",
   "execution_count": 56,
   "id": "48275fe9",
   "metadata": {},
   "outputs": [
    {
     "data": {
      "text/plain": [
       "((333, 6), (84, 6), (333,), (84,))"
      ]
     },
     "execution_count": 56,
     "metadata": {},
     "output_type": "execute_result"
    }
   ],
   "source": [
    "data_to_model = pd.read_csv('./data-set/all-data.csv')\n",
    "\n",
    "# extract input and output\n",
    "X = data_to_model.drop([\"Unnamed: 0\",\"target\"], axis=1)\n",
    "y = data_to_model[\"target\"]\n",
    "\n",
    "\n",
    "X_train, X_test, y_train, y_test = train_test_split(X,y,test_size=0.2)\n",
    "X_train.shape, X_test.shape, y_train.shape, y_test.shape\n"
   ]
  },
  {
   "cell_type": "code",
   "execution_count": 57,
   "id": "70ec44e9",
   "metadata": {},
   "outputs": [
    {
     "data": {
      "text/html": [
       "<div>\n",
       "<style scoped>\n",
       "    .dataframe tbody tr th:only-of-type {\n",
       "        vertical-align: middle;\n",
       "    }\n",
       "\n",
       "    .dataframe tbody tr th {\n",
       "        vertical-align: top;\n",
       "    }\n",
       "\n",
       "    .dataframe thead th {\n",
       "        text-align: right;\n",
       "    }\n",
       "</style>\n",
       "<table border=\"1\" class=\"dataframe\">\n",
       "  <thead>\n",
       "    <tr style=\"text-align: right;\">\n",
       "      <th></th>\n",
       "      <th>STUDBME1</th>\n",
       "      <th>STUDBME2</th>\n",
       "      <th>CMP_LAB1</th>\n",
       "      <th>CMP_LAB2</th>\n",
       "      <th>CMP_LAB3</th>\n",
       "      <th>CMP_LAB4</th>\n",
       "    </tr>\n",
       "  </thead>\n",
       "  <tbody>\n",
       "    <tr>\n",
       "      <th>121</th>\n",
       "      <td>-45</td>\n",
       "      <td>-68</td>\n",
       "      <td>-77</td>\n",
       "      <td>-78</td>\n",
       "      <td>-80</td>\n",
       "      <td>-79</td>\n",
       "    </tr>\n",
       "    <tr>\n",
       "      <th>397</th>\n",
       "      <td>0</td>\n",
       "      <td>-47</td>\n",
       "      <td>-61</td>\n",
       "      <td>-63</td>\n",
       "      <td>-60</td>\n",
       "      <td>-62</td>\n",
       "    </tr>\n",
       "    <tr>\n",
       "      <th>12</th>\n",
       "      <td>-70</td>\n",
       "      <td>-85</td>\n",
       "      <td>-88</td>\n",
       "      <td>-84</td>\n",
       "      <td>-86</td>\n",
       "      <td>-84</td>\n",
       "    </tr>\n",
       "    <tr>\n",
       "      <th>34</th>\n",
       "      <td>-72</td>\n",
       "      <td>-55</td>\n",
       "      <td>-50</td>\n",
       "      <td>-49</td>\n",
       "      <td>-50</td>\n",
       "      <td>-50</td>\n",
       "    </tr>\n",
       "    <tr>\n",
       "      <th>262</th>\n",
       "      <td>-54</td>\n",
       "      <td>-93</td>\n",
       "      <td>-87</td>\n",
       "      <td>-84</td>\n",
       "      <td>-86</td>\n",
       "      <td>-84</td>\n",
       "    </tr>\n",
       "    <tr>\n",
       "      <th>...</th>\n",
       "      <td>...</td>\n",
       "      <td>...</td>\n",
       "      <td>...</td>\n",
       "      <td>...</td>\n",
       "      <td>...</td>\n",
       "      <td>...</td>\n",
       "    </tr>\n",
       "    <tr>\n",
       "      <th>140</th>\n",
       "      <td>-48</td>\n",
       "      <td>-60</td>\n",
       "      <td>-68</td>\n",
       "      <td>-68</td>\n",
       "      <td>-72</td>\n",
       "      <td>-69</td>\n",
       "    </tr>\n",
       "    <tr>\n",
       "      <th>45</th>\n",
       "      <td>0</td>\n",
       "      <td>-58</td>\n",
       "      <td>0</td>\n",
       "      <td>-72</td>\n",
       "      <td>-74</td>\n",
       "      <td>0</td>\n",
       "    </tr>\n",
       "    <tr>\n",
       "      <th>351</th>\n",
       "      <td>-70</td>\n",
       "      <td>-82</td>\n",
       "      <td>-81</td>\n",
       "      <td>-81</td>\n",
       "      <td>-79</td>\n",
       "      <td>-79</td>\n",
       "    </tr>\n",
       "    <tr>\n",
       "      <th>297</th>\n",
       "      <td>-44</td>\n",
       "      <td>-88</td>\n",
       "      <td>0</td>\n",
       "      <td>0</td>\n",
       "      <td>-85</td>\n",
       "      <td>-86</td>\n",
       "    </tr>\n",
       "    <tr>\n",
       "      <th>413</th>\n",
       "      <td>-62</td>\n",
       "      <td>-47</td>\n",
       "      <td>-56</td>\n",
       "      <td>-54</td>\n",
       "      <td>-55</td>\n",
       "      <td>-54</td>\n",
       "    </tr>\n",
       "  </tbody>\n",
       "</table>\n",
       "<p>84 rows × 6 columns</p>\n",
       "</div>"
      ],
      "text/plain": [
       "     STUDBME1  STUDBME2  CMP_LAB1  CMP_LAB2  CMP_LAB3  CMP_LAB4\n",
       "121       -45       -68       -77       -78       -80       -79\n",
       "397         0       -47       -61       -63       -60       -62\n",
       "12        -70       -85       -88       -84       -86       -84\n",
       "34        -72       -55       -50       -49       -50       -50\n",
       "262       -54       -93       -87       -84       -86       -84\n",
       "..        ...       ...       ...       ...       ...       ...\n",
       "140       -48       -60       -68       -68       -72       -69\n",
       "45          0       -58         0       -72       -74         0\n",
       "351       -70       -82       -81       -81       -79       -79\n",
       "297       -44       -88         0         0       -85       -86\n",
       "413       -62       -47       -56       -54       -55       -54\n",
       "\n",
       "[84 rows x 6 columns]"
      ]
     },
     "execution_count": 57,
     "metadata": {},
     "output_type": "execute_result"
    }
   ],
   "source": [
    "X_test"
   ]
  },
  {
   "cell_type": "code",
   "execution_count": 70,
   "id": "d7594253",
   "metadata": {},
   "outputs": [],
   "source": [
    "classifier = SVC(C=100.0,\n",
    "    kernel='rbf',\n",
    "    degree=3)\n",
    "\n",
    "#Train the model using the training sets\n",
    "classifier.fit(X_train, y_train)\n",
    "\n",
    "y_pred = classifier.predict(X_test)"
   ]
  },
  {
   "cell_type": "code",
   "execution_count": 71,
   "id": "ff624ce5",
   "metadata": {},
   "outputs": [
    {
     "name": "stdout",
     "output_type": "stream",
     "text": [
      "Accuracy: 0.8541666666666666\n"
     ]
    }
   ],
   "source": [
    "from sklearn import metrics\n",
    "\n",
    "# Model Accuracy: how often is the classifier correct?\n",
    "print(\"Accuracy:\",metrics.accuracy_score(y_test, y_pred))"
   ]
  },
  {
   "cell_type": "code",
   "execution_count": 72,
   "id": "66c3b87a",
   "metadata": {},
   "outputs": [],
   "source": [
    "import pickle\n",
    "\n",
    "filename = 'svm85.sav'\n",
    "pickle.dump(classifier, open(filename, 'wb'))"
   ]
  },
  {
   "cell_type": "code",
   "execution_count": 49,
   "id": "cd024b95",
   "metadata": {},
   "outputs": [
    {
     "data": {
      "text/plain": [
       "array([8], dtype=int64)"
      ]
     },
     "execution_count": 49,
     "metadata": {},
     "output_type": "execute_result"
    }
   ],
   "source": [
    "y = classifier.predict(df)\n",
    "y"
   ]
  },
  {
   "cell_type": "markdown",
   "id": "7c8c696c",
   "metadata": {},
   "source": [
    "## Random forest classifier"
   ]
  },
  {
   "cell_type": "code",
   "execution_count": 52,
   "id": "b18b8ade",
   "metadata": {},
   "outputs": [],
   "source": [
    "# Random Forest Classification\n",
    "\n",
    "from sklearn.metrics import confusion_matrix, accuracy_score\n",
    "from sklearn.ensemble import RandomForestClassifier\n",
    "from sklearn.preprocessing import StandardScaler\n",
    "from sklearn.model_selection import train_test_split\n",
    "import pandas as pd\n",
    "from sklearn.feature_selection import SelectKBest, mutual_info_classif, chi2, f_classif\n",
    "\n",
    "\n",
    "data = pd.read_csv('./data-set/all-data.csv')\n",
    "X = data.drop([\"target\"], axis=1)\n",
    "y = data['target']\n",
    "\n",
    "\n",
    "\n",
    "# Splitting the dataset into the Training set and Test set\n",
    "X_train, X_test, y_train, y_test = train_test_split(X, y, test_size=0.2, random_state=0)\n"
   ]
  },
  {
   "cell_type": "code",
   "execution_count": 53,
   "id": "80fbeac3",
   "metadata": {},
   "outputs": [],
   "source": [
    "X = X.drop([\"Unnamed: 0\"], axis=1)\n",
    "X_test = X_test.drop([\"Unnamed: 0\"], axis=1)\n",
    "X_train = X_train.drop([\"Unnamed: 0\"], axis=1)"
   ]
  },
  {
   "cell_type": "code",
   "execution_count": 59,
   "id": "dd0bffde",
   "metadata": {},
   "outputs": [
    {
     "name": "stdout",
     "output_type": "stream",
     "text": [
      "0.84375\n"
     ]
    }
   ],
   "source": [
    "\n",
    "# Training the Random Forest Classification model on the Training set\n",
    "classifier = RandomForestClassifier(\n",
    "    n_estimators=100, criterion='gini')\n",
    "classifier.fit(X_train, y_train)\n",
    "\n",
    "\n",
    "y_pred = classifier.predict(X_test)\n",
    "\n",
    "\n",
    "print(accuracy_score(y_test, y_pred))\n"
   ]
  },
  {
   "cell_type": "markdown",
   "id": "7189bb6a",
   "metadata": {},
   "source": [
    "## Save the model"
   ]
  },
  {
   "cell_type": "code",
   "execution_count": 85,
   "id": "ac41f4d6",
   "metadata": {},
   "outputs": [],
   "source": [
    "import pickle\n",
    "\n",
    "filename = 'logistic-reg82.sav'\n",
    "pickle.dump(model, open(filename, 'wb'))"
   ]
  },
  {
   "cell_type": "code",
   "execution_count": 38,
   "id": "2ea4864a",
   "metadata": {},
   "outputs": [
    {
     "name": "stdout",
     "output_type": "stream",
     "text": [
      "10\n"
     ]
    }
   ],
   "source": [
    "df = pd.DataFrame({\"STUDBME1\":0,\"STUDBME2\":[0],\"CMP_LAB1\":[0],\"CMP_LAB2\":[0],\"CMP_LAB3\":[0],\"CMP_LAB4\":[0]}, dtype=int)\n",
    "\n",
    "# load the model from disk\n",
    "loaded_model = pickle.load(open('./saved_models/randomForest_84all.sav', 'rb'))\n",
    "result = loaded_model.predict(df)\n",
    "print(str(result[0]))"
   ]
  },
  {
   "cell_type": "markdown",
   "id": "83b176eb",
   "metadata": {},
   "source": [
    "## Using Logistic regression model"
   ]
  },
  {
   "cell_type": "code",
   "execution_count": 84,
   "id": "d847ab7b",
   "metadata": {},
   "outputs": [
    {
     "name": "stdout",
     "output_type": "stream",
     "text": [
      "0.8229166666666666\n"
     ]
    },
    {
     "name": "stderr",
     "output_type": "stream",
     "text": [
      "E:\\projects_VsCode\\Python\\Image_processing\\lib\\site-packages\\sklearn\\linear_model\\_logistic.py:814: ConvergenceWarning: lbfgs failed to converge (status=1):\n",
      "STOP: TOTAL NO. of ITERATIONS REACHED LIMIT.\n",
      "\n",
      "Increase the number of iterations (max_iter) or scale the data as shown in:\n",
      "    https://scikit-learn.org/stable/modules/preprocessing.html\n",
      "Please also refer to the documentation for alternative solver options:\n",
      "    https://scikit-learn.org/stable/modules/linear_model.html#logistic-regression\n",
      "  n_iter_i = _check_optimize_result(\n"
     ]
    }
   ],
   "source": [
    "import pandas\n",
    "from sklearn import model_selection\n",
    "from sklearn.linear_model import LogisticRegression\n",
    "import pickle\n",
    "\n",
    "\n",
    "# Fit the model on training set\n",
    "model = LogisticRegression(max_iter=200)\n",
    "model.fit(X_train, y_train)\n",
    "y_pred = model.predict(X_test)\n",
    "\n",
    "print(accuracy_score(y_test, y_pred))"
   ]
  },
  {
   "cell_type": "code",
   "execution_count": 54,
   "id": "d76f8666",
   "metadata": {},
   "outputs": [
    {
     "name": "stderr",
     "output_type": "stream",
     "text": [
      "E:\\projects_VsCode\\Python\\Image_processing\\lib\\site-packages\\sklearn\\base.py:488: FutureWarning: The feature names should match those that were passed during fit. Starting version 1.2, an error will be raised.\n",
      "Feature names seen at fit time, yet now missing:\n",
      "- Unnamed: 0\n",
      "\n",
      "  warnings.warn(message, FutureWarning)\n"
     ]
    },
    {
     "ename": "ValueError",
     "evalue": "X has 6 features, but RandomForestClassifier is expecting 7 features as input.",
     "output_type": "error",
     "traceback": [
      "\u001b[1;31m---------------------------------------------------------------------------\u001b[0m",
      "\u001b[1;31mValueError\u001b[0m                                Traceback (most recent call last)",
      "\u001b[1;32m~\\AppData\\Local\\Temp/ipykernel_10188/239753151.py\u001b[0m in \u001b[0;36m<module>\u001b[1;34m\u001b[0m\n\u001b[0;32m      6\u001b[0m \u001b[1;33m\u001b[0m\u001b[0m\n\u001b[0;32m      7\u001b[0m \u001b[0mmodel\u001b[0m \u001b[1;33m=\u001b[0m \u001b[0mpickle\u001b[0m\u001b[1;33m.\u001b[0m\u001b[0mload\u001b[0m\u001b[1;33m(\u001b[0m\u001b[0mopen\u001b[0m\u001b[1;33m(\u001b[0m\u001b[1;34m'./randomForest86.sav'\u001b[0m\u001b[1;33m,\u001b[0m \u001b[1;34m'rb'\u001b[0m\u001b[1;33m)\u001b[0m\u001b[1;33m)\u001b[0m\u001b[1;33m\u001b[0m\u001b[1;33m\u001b[0m\u001b[0m\n\u001b[1;32m----> 8\u001b[1;33m \u001b[0mestimation\u001b[0m \u001b[1;33m=\u001b[0m \u001b[0mmodel\u001b[0m\u001b[1;33m.\u001b[0m\u001b[0mpredict\u001b[0m\u001b[1;33m(\u001b[0m\u001b[0mdf\u001b[0m\u001b[1;33m)\u001b[0m\u001b[1;33m\u001b[0m\u001b[1;33m\u001b[0m\u001b[0m\n\u001b[0m",
      "\u001b[1;32mE:\\projects_VsCode\\Python\\Image_processing\\lib\\site-packages\\sklearn\\ensemble\\_forest.py\u001b[0m in \u001b[0;36mpredict\u001b[1;34m(self, X)\u001b[0m\n\u001b[0;32m    796\u001b[0m             \u001b[0mThe\u001b[0m \u001b[0mpredicted\u001b[0m \u001b[0mclasses\u001b[0m\u001b[1;33m.\u001b[0m\u001b[1;33m\u001b[0m\u001b[1;33m\u001b[0m\u001b[0m\n\u001b[0;32m    797\u001b[0m         \"\"\"\n\u001b[1;32m--> 798\u001b[1;33m         \u001b[0mproba\u001b[0m \u001b[1;33m=\u001b[0m \u001b[0mself\u001b[0m\u001b[1;33m.\u001b[0m\u001b[0mpredict_proba\u001b[0m\u001b[1;33m(\u001b[0m\u001b[0mX\u001b[0m\u001b[1;33m)\u001b[0m\u001b[1;33m\u001b[0m\u001b[1;33m\u001b[0m\u001b[0m\n\u001b[0m\u001b[0;32m    799\u001b[0m \u001b[1;33m\u001b[0m\u001b[0m\n\u001b[0;32m    800\u001b[0m         \u001b[1;32mif\u001b[0m \u001b[0mself\u001b[0m\u001b[1;33m.\u001b[0m\u001b[0mn_outputs_\u001b[0m \u001b[1;33m==\u001b[0m \u001b[1;36m1\u001b[0m\u001b[1;33m:\u001b[0m\u001b[1;33m\u001b[0m\u001b[1;33m\u001b[0m\u001b[0m\n",
      "\u001b[1;32mE:\\projects_VsCode\\Python\\Image_processing\\lib\\site-packages\\sklearn\\ensemble\\_forest.py\u001b[0m in \u001b[0;36mpredict_proba\u001b[1;34m(self, X)\u001b[0m\n\u001b[0;32m    838\u001b[0m         \u001b[0mcheck_is_fitted\u001b[0m\u001b[1;33m(\u001b[0m\u001b[0mself\u001b[0m\u001b[1;33m)\u001b[0m\u001b[1;33m\u001b[0m\u001b[1;33m\u001b[0m\u001b[0m\n\u001b[0;32m    839\u001b[0m         \u001b[1;31m# Check data\u001b[0m\u001b[1;33m\u001b[0m\u001b[1;33m\u001b[0m\u001b[0m\n\u001b[1;32m--> 840\u001b[1;33m         \u001b[0mX\u001b[0m \u001b[1;33m=\u001b[0m \u001b[0mself\u001b[0m\u001b[1;33m.\u001b[0m\u001b[0m_validate_X_predict\u001b[0m\u001b[1;33m(\u001b[0m\u001b[0mX\u001b[0m\u001b[1;33m)\u001b[0m\u001b[1;33m\u001b[0m\u001b[1;33m\u001b[0m\u001b[0m\n\u001b[0m\u001b[0;32m    841\u001b[0m \u001b[1;33m\u001b[0m\u001b[0m\n\u001b[0;32m    842\u001b[0m         \u001b[1;31m# Assign chunk of trees to jobs\u001b[0m\u001b[1;33m\u001b[0m\u001b[1;33m\u001b[0m\u001b[0m\n",
      "\u001b[1;32mE:\\projects_VsCode\\Python\\Image_processing\\lib\\site-packages\\sklearn\\ensemble\\_forest.py\u001b[0m in \u001b[0;36m_validate_X_predict\u001b[1;34m(self, X)\u001b[0m\n\u001b[0;32m    567\u001b[0m         Validate X whenever one tries to predict, apply, predict_proba.\"\"\"\n\u001b[0;32m    568\u001b[0m         \u001b[0mcheck_is_fitted\u001b[0m\u001b[1;33m(\u001b[0m\u001b[0mself\u001b[0m\u001b[1;33m)\u001b[0m\u001b[1;33m\u001b[0m\u001b[1;33m\u001b[0m\u001b[0m\n\u001b[1;32m--> 569\u001b[1;33m         \u001b[0mX\u001b[0m \u001b[1;33m=\u001b[0m \u001b[0mself\u001b[0m\u001b[1;33m.\u001b[0m\u001b[0m_validate_data\u001b[0m\u001b[1;33m(\u001b[0m\u001b[0mX\u001b[0m\u001b[1;33m,\u001b[0m \u001b[0mdtype\u001b[0m\u001b[1;33m=\u001b[0m\u001b[0mDTYPE\u001b[0m\u001b[1;33m,\u001b[0m \u001b[0maccept_sparse\u001b[0m\u001b[1;33m=\u001b[0m\u001b[1;34m\"csr\"\u001b[0m\u001b[1;33m,\u001b[0m \u001b[0mreset\u001b[0m\u001b[1;33m=\u001b[0m\u001b[1;32mFalse\u001b[0m\u001b[1;33m)\u001b[0m\u001b[1;33m\u001b[0m\u001b[1;33m\u001b[0m\u001b[0m\n\u001b[0m\u001b[0;32m    570\u001b[0m         \u001b[1;32mif\u001b[0m \u001b[0missparse\u001b[0m\u001b[1;33m(\u001b[0m\u001b[0mX\u001b[0m\u001b[1;33m)\u001b[0m \u001b[1;32mand\u001b[0m \u001b[1;33m(\u001b[0m\u001b[0mX\u001b[0m\u001b[1;33m.\u001b[0m\u001b[0mindices\u001b[0m\u001b[1;33m.\u001b[0m\u001b[0mdtype\u001b[0m \u001b[1;33m!=\u001b[0m \u001b[0mnp\u001b[0m\u001b[1;33m.\u001b[0m\u001b[0mintc\u001b[0m \u001b[1;32mor\u001b[0m \u001b[0mX\u001b[0m\u001b[1;33m.\u001b[0m\u001b[0mindptr\u001b[0m\u001b[1;33m.\u001b[0m\u001b[0mdtype\u001b[0m \u001b[1;33m!=\u001b[0m \u001b[0mnp\u001b[0m\u001b[1;33m.\u001b[0m\u001b[0mintc\u001b[0m\u001b[1;33m)\u001b[0m\u001b[1;33m:\u001b[0m\u001b[1;33m\u001b[0m\u001b[1;33m\u001b[0m\u001b[0m\n\u001b[0;32m    571\u001b[0m             \u001b[1;32mraise\u001b[0m \u001b[0mValueError\u001b[0m\u001b[1;33m(\u001b[0m\u001b[1;34m\"No support for np.int64 index based sparse matrices\"\u001b[0m\u001b[1;33m)\u001b[0m\u001b[1;33m\u001b[0m\u001b[1;33m\u001b[0m\u001b[0m\n",
      "\u001b[1;32mE:\\projects_VsCode\\Python\\Image_processing\\lib\\site-packages\\sklearn\\base.py\u001b[0m in \u001b[0;36m_validate_data\u001b[1;34m(self, X, y, reset, validate_separately, **check_params)\u001b[0m\n\u001b[0;32m    578\u001b[0m \u001b[1;33m\u001b[0m\u001b[0m\n\u001b[0;32m    579\u001b[0m         \u001b[1;32mif\u001b[0m \u001b[1;32mnot\u001b[0m \u001b[0mno_val_X\u001b[0m \u001b[1;32mand\u001b[0m \u001b[0mcheck_params\u001b[0m\u001b[1;33m.\u001b[0m\u001b[0mget\u001b[0m\u001b[1;33m(\u001b[0m\u001b[1;34m\"ensure_2d\"\u001b[0m\u001b[1;33m,\u001b[0m \u001b[1;32mTrue\u001b[0m\u001b[1;33m)\u001b[0m\u001b[1;33m:\u001b[0m\u001b[1;33m\u001b[0m\u001b[1;33m\u001b[0m\u001b[0m\n\u001b[1;32m--> 580\u001b[1;33m             \u001b[0mself\u001b[0m\u001b[1;33m.\u001b[0m\u001b[0m_check_n_features\u001b[0m\u001b[1;33m(\u001b[0m\u001b[0mX\u001b[0m\u001b[1;33m,\u001b[0m \u001b[0mreset\u001b[0m\u001b[1;33m=\u001b[0m\u001b[0mreset\u001b[0m\u001b[1;33m)\u001b[0m\u001b[1;33m\u001b[0m\u001b[1;33m\u001b[0m\u001b[0m\n\u001b[0m\u001b[0;32m    581\u001b[0m \u001b[1;33m\u001b[0m\u001b[0m\n\u001b[0;32m    582\u001b[0m         \u001b[1;32mreturn\u001b[0m \u001b[0mout\u001b[0m\u001b[1;33m\u001b[0m\u001b[1;33m\u001b[0m\u001b[0m\n",
      "\u001b[1;32mE:\\projects_VsCode\\Python\\Image_processing\\lib\\site-packages\\sklearn\\base.py\u001b[0m in \u001b[0;36m_check_n_features\u001b[1;34m(self, X, reset)\u001b[0m\n\u001b[0;32m    393\u001b[0m \u001b[1;33m\u001b[0m\u001b[0m\n\u001b[0;32m    394\u001b[0m         \u001b[1;32mif\u001b[0m \u001b[0mn_features\u001b[0m \u001b[1;33m!=\u001b[0m \u001b[0mself\u001b[0m\u001b[1;33m.\u001b[0m\u001b[0mn_features_in_\u001b[0m\u001b[1;33m:\u001b[0m\u001b[1;33m\u001b[0m\u001b[1;33m\u001b[0m\u001b[0m\n\u001b[1;32m--> 395\u001b[1;33m             raise ValueError(\n\u001b[0m\u001b[0;32m    396\u001b[0m                 \u001b[1;34mf\"X has {n_features} features, but {self.__class__.__name__} \"\u001b[0m\u001b[1;33m\u001b[0m\u001b[1;33m\u001b[0m\u001b[0m\n\u001b[0;32m    397\u001b[0m                 \u001b[1;34mf\"is expecting {self.n_features_in_} features as input.\"\u001b[0m\u001b[1;33m\u001b[0m\u001b[1;33m\u001b[0m\u001b[0m\n",
      "\u001b[1;31mValueError\u001b[0m: X has 6 features, but RandomForestClassifier is expecting 7 features as input."
     ]
    }
   ],
   "source": [
    "import pickle\n",
    "import numpy as np\n",
    "import pandas as pd\n",
    "\n",
    "df = pd.DataFrame({\"STUDBME1\":[1],\"STUDBME2\":[1],\"CMP_LAB1\":[5],\"CMP_LAB2\":[2],\"CMP_LAB3\":[10],\"CMP_LAB4\":15})\n",
    "\n",
    "model = pickle.load(open('./randomForest86.sav', 'rb'))\n",
    "estimation = model.predict(df)"
   ]
  },
  {
   "cell_type": "code",
   "execution_count": 50,
   "id": "38a724a0",
   "metadata": {},
   "outputs": [
    {
     "data": {
      "text/plain": [
       "STUDBME1     1\n",
       "STUDBME2     1\n",
       "CMP_LAB1     5\n",
       "CMP_LAB2     2\n",
       "CMP_LAB3    10\n",
       "CMP_LAB4    15\n",
       "Name: 0, dtype: int64"
      ]
     },
     "execution_count": 50,
     "metadata": {},
     "output_type": "execute_result"
    }
   ],
   "source": [
    "df.iloc[0]"
   ]
  },
  {
   "cell_type": "code",
   "execution_count": 51,
   "id": "023a5f29",
   "metadata": {},
   "outputs": [],
   "source": [
    "df.iloc[0] = [4,4,4,4,4,4]"
   ]
  },
  {
   "cell_type": "code",
   "execution_count": 52,
   "id": "56f59e20",
   "metadata": {},
   "outputs": [
    {
     "data": {
      "text/html": [
       "<div>\n",
       "<style scoped>\n",
       "    .dataframe tbody tr th:only-of-type {\n",
       "        vertical-align: middle;\n",
       "    }\n",
       "\n",
       "    .dataframe tbody tr th {\n",
       "        vertical-align: top;\n",
       "    }\n",
       "\n",
       "    .dataframe thead th {\n",
       "        text-align: right;\n",
       "    }\n",
       "</style>\n",
       "<table border=\"1\" class=\"dataframe\">\n",
       "  <thead>\n",
       "    <tr style=\"text-align: right;\">\n",
       "      <th></th>\n",
       "      <th>STUDBME1</th>\n",
       "      <th>STUDBME2</th>\n",
       "      <th>CMP_LAB1</th>\n",
       "      <th>CMP_LAB2</th>\n",
       "      <th>CMP_LAB3</th>\n",
       "      <th>CMP_LAB4</th>\n",
       "    </tr>\n",
       "  </thead>\n",
       "  <tbody>\n",
       "    <tr>\n",
       "      <th>0</th>\n",
       "      <td>4</td>\n",
       "      <td>4</td>\n",
       "      <td>4</td>\n",
       "      <td>4</td>\n",
       "      <td>4</td>\n",
       "      <td>4</td>\n",
       "    </tr>\n",
       "  </tbody>\n",
       "</table>\n",
       "</div>"
      ],
      "text/plain": [
       "   STUDBME1  STUDBME2  CMP_LAB1  CMP_LAB2  CMP_LAB3  CMP_LAB4\n",
       "0         4         4         4         4         4         4"
      ]
     },
     "execution_count": 52,
     "metadata": {},
     "output_type": "execute_result"
    }
   ],
   "source": [
    "df"
   ]
  },
  {
   "cell_type": "code",
   "execution_count": 5,
   "id": "0793a8f2",
   "metadata": {},
   "outputs": [],
   "source": [
    "import pandas as pd\n",
    "import pickle\n",
    "#------- GLOBAL VARIABLE -----R---\n",
    "estimation = '0'  # output of the ML model\n",
    "counter = 0       # counter for the ith record\n",
    "\n",
    "\n",
    "aggragate = pd.DataFrame({\"STUDBME1\":[0],\"STUDBME2\":[0],\"CMP_LAB1\":[0],\"CMP_LAB2\":[0],\"CMP_LAB3\":[0],\"CMP_LAB4\":[0]}, dtype=int)\n",
    "input_to_model = pd.DataFrame({\"STUDBME1\":[0],\"STUDBME2\":[0],\"CMP_LAB1\":[0],\"CMP_LAB2\":[0],\"CMP_LAB3\":[0],\"CMP_LAB4\":[0]}, dtype=int)\n",
    "\n",
    "\n",
    "model = pickle.load(open('saved_models/randomForest_84all.sav', 'rb'))\n",
    "\n",
    "def receive(row):\n",
    "    global estimation, input_to_model, counter, aggragate\n",
    "    s1 = row[0]\n",
    "    print(\"s1= \", s1)\n",
    "    s2 = row[1]\n",
    "    print(\"s2= \", s2)\n",
    "    s3 = row[2]\n",
    "    print(\"s3= \", s3)\n",
    "    s4 = row[3]\n",
    "    print(\"s4= \", s4)\n",
    "    s5 = row[4]\n",
    "    print(\"s5= \", s5)\n",
    "    s6 = row[5]\n",
    "    print(\"s6= \", s6)\n",
    "    \n",
    "    input_to_model.loc[-1] = [s1,s2,s3,s4,s5,s6]\n",
    "\n",
    "    aggragate = aggragate.append(input_to_model.iloc[0])\n",
    "    \n",
    "    print(aggragate)\n",
    "    counter += 1\n",
    "    \n",
    "    if counter == 6:\n",
    "        estimate()\n",
    "        aggragate = aggragate[0:0]\n",
    "        counter = 0\n",
    "        return \"<h2> Model has updated the data </h2>\"\n",
    "        \n",
    "    return \"<h2> Data is stored </h2>\"\n",
    "\n",
    "\n",
    "def estimate():\n",
    "    global input_to_model, aggragate, estimation\n",
    "    # get mean of 5 readings\n",
    "    print(aggragate.mean())\n",
    "    input_to_model.loc[0] = (aggragate.mean()+0.5).astype(int)\n",
    "    #print(input_to_model)\n",
    "    estimation = model.predict(input_to_model)[0]\n"
   ]
  },
  {
   "cell_type": "code",
   "execution_count": 2,
   "id": "fd58cfaf",
   "metadata": {},
   "outputs": [
    {
     "name": "stdout",
     "output_type": "stream",
     "text": [
      "s1=  1\n",
      "s2=  2\n",
      "s3=  3\n",
      "s4=  4\n",
      "s5=  5\n",
      "s6=  6\n",
      "   STUDBME1  STUDBME2  CMP_LAB1  CMP_LAB2  CMP_LAB3  CMP_LAB4\n",
      "0         0         0         0         0         0         0\n",
      "0         1         2         3         4         5         6\n",
      "s1=  1\n",
      "s2=  2\n",
      "s3=  3\n",
      "s4=  4\n",
      "s5=  5\n",
      "s6=  6\n",
      "   STUDBME1  STUDBME2  CMP_LAB1  CMP_LAB2  CMP_LAB3  CMP_LAB4\n",
      "0         0         0         0         0         0         0\n",
      "0         1         2         3         4         5         6\n",
      "0         1         2         3         4         5         6\n",
      "s1=  1\n",
      "s2=  2\n",
      "s3=  3\n",
      "s4=  4\n",
      "s5=  5\n",
      "s6=  6\n",
      "   STUDBME1  STUDBME2  CMP_LAB1  CMP_LAB2  CMP_LAB3  CMP_LAB4\n",
      "0         0         0         0         0         0         0\n",
      "0         1         2         3         4         5         6\n",
      "0         1         2         3         4         5         6\n",
      "0         1         2         3         4         5         6\n",
      "s1=  1\n",
      "s2=  2\n",
      "s3=  3\n",
      "s4=  4\n",
      "s5=  5\n",
      "s6=  6\n",
      "   STUDBME1  STUDBME2  CMP_LAB1  CMP_LAB2  CMP_LAB3  CMP_LAB4\n",
      "0         0         0         0         0         0         0\n",
      "0         1         2         3         4         5         6\n",
      "0         1         2         3         4         5         6\n",
      "0         1         2         3         4         5         6\n",
      "0         1         2         3         4         5         6\n"
     ]
    },
    {
     "data": {
      "text/plain": [
       "'<h2> Data is stored </h2>'"
      ]
     },
     "execution_count": 2,
     "metadata": {},
     "output_type": "execute_result"
    }
   ],
   "source": [
    "receive([1,2,3,4,5,6])\n",
    "receive([1,2,3,4,5,6])\n",
    "receive([1,2,3,4,5,6])\n",
    "receive([1,2,3,4,5,6])"
   ]
  },
  {
   "cell_type": "code",
   "execution_count": 3,
   "id": "2591a2fc",
   "metadata": {},
   "outputs": [
    {
     "name": "stdout",
     "output_type": "stream",
     "text": [
      "s1=  1\n",
      "s2=  2\n",
      "s3=  3\n",
      "s4=  4\n",
      "s5=  5\n",
      "s6=  6\n",
      "   STUDBME1  STUDBME2  CMP_LAB1  CMP_LAB2  CMP_LAB3  CMP_LAB4\n",
      "0         0         0         0         0         0         0\n",
      "0         1         2         3         4         5         6\n",
      "0         1         2         3         4         5         6\n",
      "0         1         2         3         4         5         6\n",
      "0         1         2         3         4         5         6\n",
      "0         1         2         3         4         5         6\n"
     ]
    },
    {
     "data": {
      "text/plain": [
       "'<h2> Data is stored </h2>'"
      ]
     },
     "execution_count": 3,
     "metadata": {},
     "output_type": "execute_result"
    }
   ],
   "source": [
    "receive([1,2,3,4,5,6])"
   ]
  },
  {
   "cell_type": "code",
   "execution_count": 26,
   "id": "ef597c84",
   "metadata": {},
   "outputs": [
    {
     "name": "stdout",
     "output_type": "stream",
     "text": [
      "s1=  11\n",
      "s2=  1\n",
      "s3=  1\n",
      "s4=  1\n",
      "s5=  11\n",
      "s6=  1\n",
      "   STUDBME1  STUDBME2  CMP_LAB1  CMP_LAB2  CMP_LAB3  CMP_LAB4\n",
      "0         1         2         3         4         5         6\n",
      "0         0         0         0         0         0         0\n",
      "0        11         1         1         1        11         1\n",
      "0        11         1         1         1        11         1\n",
      "0        11         1         1         1        11         1\n",
      "0        11         1         1         1        11         1\n",
      "STUDBME1    7.500000\n",
      "STUDBME2    1.000000\n",
      "CMP_LAB1    1.166667\n",
      "CMP_LAB2    1.333333\n",
      "CMP_LAB3    8.166667\n",
      "CMP_LAB4    1.666667\n",
      "dtype: float64\n"
     ]
    },
    {
     "data": {
      "text/plain": [
       "'<h2> Model has updated the data </h2>'"
      ]
     },
     "execution_count": 26,
     "metadata": {},
     "output_type": "execute_result"
    }
   ],
   "source": [
    "receive([11,1,1,1,11,1])"
   ]
  },
  {
   "cell_type": "code",
   "execution_count": 27,
   "id": "f32c23f0",
   "metadata": {},
   "outputs": [
    {
     "data": {
      "text/html": [
       "<div>\n",
       "<style scoped>\n",
       "    .dataframe tbody tr th:only-of-type {\n",
       "        vertical-align: middle;\n",
       "    }\n",
       "\n",
       "    .dataframe tbody tr th {\n",
       "        vertical-align: top;\n",
       "    }\n",
       "\n",
       "    .dataframe thead th {\n",
       "        text-align: right;\n",
       "    }\n",
       "</style>\n",
       "<table border=\"1\" class=\"dataframe\">\n",
       "  <thead>\n",
       "    <tr style=\"text-align: right;\">\n",
       "      <th></th>\n",
       "      <th>STUDBME1</th>\n",
       "      <th>STUDBME2</th>\n",
       "      <th>CMP_LAB1</th>\n",
       "      <th>CMP_LAB2</th>\n",
       "      <th>CMP_LAB3</th>\n",
       "      <th>CMP_LAB4</th>\n",
       "    </tr>\n",
       "  </thead>\n",
       "  <tbody>\n",
       "    <tr>\n",
       "      <th>0</th>\n",
       "      <td>8</td>\n",
       "      <td>1</td>\n",
       "      <td>1</td>\n",
       "      <td>1</td>\n",
       "      <td>8</td>\n",
       "      <td>2</td>\n",
       "    </tr>\n",
       "  </tbody>\n",
       "</table>\n",
       "</div>"
      ],
      "text/plain": [
       "   STUDBME1  STUDBME2  CMP_LAB1  CMP_LAB2  CMP_LAB3  CMP_LAB4\n",
       "0         8         1         1         1         8         2"
      ]
     },
     "execution_count": 27,
     "metadata": {},
     "output_type": "execute_result"
    }
   ],
   "source": [
    "input_to_model"
   ]
  },
  {
   "cell_type": "code",
   "execution_count": 32,
   "id": "e3111124",
   "metadata": {},
   "outputs": [
    {
     "data": {
      "text/plain": [
       "array([10], dtype=int64)"
      ]
     },
     "execution_count": 32,
     "metadata": {},
     "output_type": "execute_result"
    }
   ],
   "source": [
    "estimation = model.predict(input_to_model.astype(int))[0]\n",
    "estimation"
   ]
  },
  {
   "cell_type": "code",
   "execution_count": null,
   "id": "0abb966c",
   "metadata": {},
   "outputs": [],
   "source": []
  }
 ],
 "metadata": {
  "kernelspec": {
   "display_name": "Python 3 (ipykernel)",
   "language": "python",
   "name": "python3"
  },
  "language_info": {
   "codemirror_mode": {
    "name": "ipython",
    "version": 3
   },
   "file_extension": ".py",
   "mimetype": "text/x-python",
   "name": "python",
   "nbconvert_exporter": "python",
   "pygments_lexer": "ipython3",
   "version": "3.9.7"
  }
 },
 "nbformat": 4,
 "nbformat_minor": 5
}
